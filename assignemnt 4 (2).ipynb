{
 "cells": [
  {
   "cell_type": "markdown",
   "id": "6e4bab58",
   "metadata": {},
   "source": [
    "# Python Programming Language  Assignment # 4\n"
   ]
  },
  {
   "cell_type": "code",
   "execution_count": 37,
   "id": "966a03e2",
   "metadata": {},
   "outputs": [
    {
     "name": "stdout",
     "output_type": "stream",
     "text": [
      "Enter the first number: 2\n",
      "Enter the second number: 4\n",
      "\n",
      "What do you want to do?\n",
      "1: Addition \n",
      "2: Subtraction \n",
      "3: Multiplication \n",
      "4:Power\n",
      "3\n",
      "The multiplication of two number is :  8\n"
     ]
    }
   ],
   "source": [
    "a = int(input(\"Enter the first number: \"))\n",
    "b= int(input(\"Enter the second number: \"))\n",
    "\n",
    "print(\"\\nWhat do you want to do?\")\n",
    "view = int(input(\"1: Addition \\n2: Subtraction \\n3: Multiplication \\n4:Power\\n\"))\n",
    "if view == 1:\n",
    "    c =a+b;\n",
    "    print(\"The sum of two number is : \",c)\n",
    "elif view == 2:\n",
    "        c =a-b;\n",
    "        print(\"The substraction of two number is : \",c)\n",
    "elif view == 3:\n",
    "            c =a*b;\n",
    "            print(\"The multiplication of two number is : \",c)\n",
    "elif view == 4:\n",
    "                c= a**b;\n",
    "                print(\"The power of two number is : \",c)\n",
    "else:\n",
    "    print(\"Please choose correct number\")\n",
    "                \n",
    "        \n",
    "\n",
    "\n"
   ]
  },
  {
   "cell_type": "code",
   "execution_count": 2,
   "id": "39d53ebc",
   "metadata": {},
   "outputs": [
    {
     "name": "stdout",
     "output_type": "stream",
     "text": [
      "['1']\n",
      "['1', '2']\n",
      "['1', '2', '3']\n",
      "['1', '2', '3', '5']\n"
     ]
    }
   ],
   "source": [
    "a =[\"1\",\"2\",\"3\",\"4\",\"5\",\"6\",\"7\",\"8\",\"9\",\"10\"]\n",
    "b =[\"1\" ,\"2\",\"3\",\"Geo\",\"5\"]\n",
    "c=[]\n",
    "for i in a:\n",
    "    for j in b:\n",
    "        if(i==j):\n",
    "            c.append(j)\n",
    "            print(c)"
   ]
  },
  {
   "cell_type": "code",
   "execution_count": 38,
   "id": "da3eaee1",
   "metadata": {},
   "outputs": [
    {
     "name": "stdout",
     "output_type": "stream",
     "text": [
      "{1: 'Ammaz', 2: 'Memon', 3: 'John'}\n",
      "enter the key: 34\n",
      "enter the value: dd\n",
      "{1: 'Ammaz', 2: 'Memon', 3: 'John', 34: 'dd'}\n"
     ]
    }
   ],
   "source": [
    "a ={1: 'Ammaz' , 2:'Memon', 3:'John'}\n",
    "print(a)\n",
    "b=int(input(\"enter the key: \"))\n",
    "c=input(\"enter the value: \")\n",
    "a[b]=c\n",
    "print(a)\n",
    "\n"
   ]
  },
  {
   "cell_type": "code",
   "execution_count": 20,
   "id": "9e407abe",
   "metadata": {},
   "outputs": [
    {
     "name": "stdout",
     "output_type": "stream",
     "text": [
      "Total sum of items: 10\n"
     ]
    }
   ],
   "source": [
    "a={1:'120',2:'3220',3:'4475',4:'5'}\n",
    "print(\"Total sum of items:\",sum(a))\n"
   ]
  },
  {
   "cell_type": "code",
   "execution_count": 26,
   "id": "a81595ad",
   "metadata": {},
   "outputs": [
    {
     "name": "stdout",
     "output_type": "stream",
     "text": [
      "{1: 4, 2: 3, 3: 1, 4: 1, 5: 2, 6: 1, 7: 1, 8: 1, 9: 2}\n"
     ]
    }
   ],
   "source": [
    "\n",
    "l1 = [1,2,1,2,3,4,5,1,1,2,5,6,7,8,9,9]\n",
    "l2 = {item:l1.count(item) for item in l1}\n",
    "print(l2)"
   ]
  },
  {
   "cell_type": "code",
   "execution_count": null,
   "id": "aec0c1a0",
   "metadata": {},
   "outputs": [],
   "source": []
  },
  {
   "cell_type": "code",
   "execution_count": 36,
   "id": "40849635",
   "metadata": {},
   "outputs": [
    {
     "name": "stdout",
     "output_type": "stream",
     "text": [
      "Enter the key 4\n",
      "Key is present and value of the key is:\n",
      "D\n"
     ]
    }
   ],
   "source": [
    "d={1:'A',2:'B',3:'C',4:'D'}\n",
    "key = int(input(\"Enter the key \"))\n",
    "if key in d.keys():\n",
    "         print(\"Key is present and value of the key is:\")\n",
    "         print(d[key])\n",
    "else:\n",
    "      print(\"Key isn't present!\")\n"
   ]
  },
  {
   "cell_type": "code",
   "execution_count": null,
   "id": "f501e7bd",
   "metadata": {},
   "outputs": [],
   "source": []
  }
 ],
 "metadata": {
  "kernelspec": {
   "display_name": "Python 3",
   "language": "python",
   "name": "python3"
  },
  "language_info": {
   "codemirror_mode": {
    "name": "ipython",
    "version": 3
   },
   "file_extension": ".py",
   "mimetype": "text/x-python",
   "name": "python",
   "nbconvert_exporter": "python",
   "pygments_lexer": "ipython3",
   "version": "3.8.8"
  }
 },
 "nbformat": 4,
 "nbformat_minor": 5
}
